{
 "cells": [
  {
   "cell_type": "code",
   "execution_count": 6,
   "metadata": {
    "collapsed": true
   },
   "outputs": [],
   "source": [
    "from PIL import Image\n",
    "import os\n",
    "import multiprocessing\n",
    "from functools import partial\n",
    "import logging\n",
    "import progressbar\n",
    "logging.basicConfig(level=logging.INFO)\n",
    "import numpy as np"
   ]
  },
  {
   "cell_type": "code",
   "execution_count": 33,
   "metadata": {
    "collapsed": true
   },
   "outputs": [],
   "source": [
    "def normalize_mask(im):\n",
    "    return (im > 127).astype(np.uint8)"
   ]
  },
  {
   "cell_type": "code",
   "execution_count": 31,
   "metadata": {},
   "outputs": [],
   "source": [
    "def dice_coef(x, y):\n",
    "    xf = x.ravel()\n",
    "    yf = y.ravel()\n",
    "    intersection = np.sum(xf * yf)\n",
    "    return (2. * intersection) / (np.sum(x) + np.sum(y))"
   ]
  },
  {
   "cell_type": "code",
   "execution_count": 46,
   "metadata": {
    "collapsed": true
   },
   "outputs": [],
   "source": [
    "def evaluate_interpolation(img, target_size=(240, 160)):\n",
    "    interpolations = {\"area\": cv2.INTER_AREA,\n",
    "                      \"cubic\": cv2.INTER_CUBIC,\n",
    "                      \"lanczos\": cv2.INTER_LANCZOS4,\n",
    "                      \"nn\": cv2.INTER_NEAREST,\n",
    "                      \"linear\": cv2.INTER_LINEAR}\n",
    "    results = []\n",
    "    original_size = img.shape[:2][::-1]\n",
    "    for down_name, down_interp in interpolations.items():\n",
    "        for up_name, up_interp in interpolations.items():\n",
    "            img_copy = img.copy()\n",
    "            img_copy *= 255\n",
    "            img_down = cv2.resize(img_copy, target_size, interpolation=down_interp)\n",
    "            img_up = cv2.resize(img_down, original_size, interpolation=up_interp)\n",
    "            score = dice_coef(img, normalize_mask(img_up))\n",
    "            results.append(((down_name, up_name), score))\n",
    "    return results"
   ]
  },
  {
   "cell_type": "code",
   "execution_count": 47,
   "metadata": {
    "collapsed": true
   },
   "outputs": [],
   "source": [
    "m = np.array(Image.open(\"../data/train_masks_sample/03a857ce842d_11_mask.gif\"))"
   ]
  },
  {
   "cell_type": "code",
   "execution_count": 48,
   "metadata": {
    "collapsed": true
   },
   "outputs": [],
   "source": [
    "results = evaluate_interpolation(m)"
   ]
  },
  {
   "cell_type": "code",
   "execution_count": 50,
   "metadata": {},
   "outputs": [
    {
     "data": {
      "text/plain": [
       "[(('nn', 'nn'), 0.98688279737565865),\n",
       " (('nn', 'area'), 0.98722410563784424),\n",
       " (('nn', 'lanczos'), 0.98757727618610225),\n",
       " (('nn', 'cubic'), 0.98765376506580183),\n",
       " (('nn', 'linear'), 0.9877059924165783),\n",
       " (('lanczos', 'nn'), 0.99290942504783686),\n",
       " (('cubic', 'nn'), 0.99291648841555402),\n",
       " (('cubic', 'area'), 0.99295365517315926),\n",
       " (('lanczos', 'area'), 0.99295563265449605),\n",
       " (('linear', 'nn'), 0.99295697952078654),\n",
       " (('linear', 'area'), 0.99300972516922048),\n",
       " (('area', 'nn'), 0.99303501058400834),\n",
       " (('area', 'area'), 0.99336384253790444),\n",
       " (('cubic', 'lanczos'), 0.99479376332291369),\n",
       " (('linear', 'lanczos'), 0.99486588347599769),\n",
       " (('cubic', 'cubic'), 0.99487561893337229),\n",
       " (('cubic', 'linear'), 0.99488642199090804),\n",
       " (('lanczos', 'lanczos'), 0.99490181421926427),\n",
       " (('linear', 'cubic'), 0.99493058713869509),\n",
       " (('lanczos', 'linear'), 0.99493230003306388),\n",
       " (('lanczos', 'cubic'), 0.9949412301897872),\n",
       " (('linear', 'linear'), 0.99497592461634787),\n",
       " (('area', 'linear'), 0.99770110802451073),\n",
       " (('area', 'cubic'), 0.99826320267587432),\n",
       " (('area', 'lanczos'), 0.9983452592307166)]"
      ]
     },
     "execution_count": 50,
     "metadata": {},
     "output_type": "execute_result"
    }
   ],
   "source": [
    "sorted(results, key=lambda x: x[1])"
   ]
  },
  {
   "cell_type": "code",
   "execution_count": 108,
   "metadata": {
    "collapsed": true
   },
   "outputs": [],
   "source": [
    "m = Image.open(\"../data/train_masks_sample/03a857ce842d_11_mask.gif\")"
   ]
  },
  {
   "cell_type": "code",
   "execution_count": 109,
   "metadata": {},
   "outputs": [],
   "source": [
    "m = Image.fromarray(np.array(m) * 255)"
   ]
  },
  {
   "cell_type": "code",
   "execution_count": 114,
   "metadata": {},
   "outputs": [
    {
     "name": "stdout",
     "output_type": "stream",
     "text": [
      "10 loops, best of 3: 20 ms per loop\n"
     ]
    }
   ],
   "source": [
    "%timeit m.resize((1920//2, 1280//2), resample=Image.LANCZOS)"
   ]
  },
  {
   "cell_type": "code",
   "execution_count": null,
   "metadata": {
    "collapsed": true
   },
   "outputs": [],
   "source": []
  },
  {
   "cell_type": "code",
   "execution_count": 52,
   "metadata": {},
   "outputs": [
    {
     "data": {
      "text/plain": [
       "(1918, 1280)"
      ]
     },
     "execution_count": 52,
     "metadata": {},
     "output_type": "execute_result"
    }
   ],
   "source": [
    "m.size"
   ]
  },
  {
   "cell_type": "code",
   "execution_count": 121,
   "metadata": {},
   "outputs": [
    {
     "data": {
      "text/plain": [
       "960"
      ]
     },
     "execution_count": 121,
     "metadata": {},
     "output_type": "execute_result"
    }
   ],
   "source": [
    "1920//2"
   ]
  },
  {
   "cell_type": "code",
   "execution_count": 122,
   "metadata": {},
   "outputs": [
    {
     "data": {
      "text/plain": [
       "640"
      ]
     },
     "execution_count": 122,
     "metadata": {},
     "output_type": "execute_result"
    }
   ],
   "source": [
    "1280//2"
   ]
  },
  {
   "cell_type": "code",
   "execution_count": 79,
   "metadata": {
    "collapsed": true
   },
   "outputs": [],
   "source": [
    "from collections import defaultdict"
   ]
  },
  {
   "cell_type": "code",
   "execution_count": 115,
   "metadata": {},
   "outputs": [],
   "source": [
    "def evaluate_interpolation(imgs, target_size=(240, 160)):\n",
    "    interpolations = {\"pil_area\": Image.BOX,\n",
    "                      \"pil_cubic\": Image.BICUBIC,\n",
    "                      \"pil_lanczos\": Image.LANCZOS,\n",
    "                      \"pil_nn\": Image.NEAREST,\n",
    "                      \"pil_linear\": Image.BILINEAR,\n",
    "                      \"pil_hamming\": Image.HAMMING,\n",
    "                      \"cv2_area\": cv2.INTER_AREA,\n",
    "                      \"cv2_cubic\": cv2.INTER_CUBIC,\n",
    "                      \"cv2_lanczos\": cv2.INTER_LANCZOS4,\n",
    "                      \"cv2_nn\": cv2.INTER_NEAREST,\n",
    "                      \"cv2_linear\": cv2.INTER_LINEAR}\n",
    "    results = defaultdict(float)\n",
    "    for img in imgs:\n",
    "        original_size = img.shape[:2][::-1]\n",
    "        for down_name, down_interp in interpolations.items():\n",
    "            for up_name, up_interp in interpolations.items():\n",
    "                img_copy = img.copy()\n",
    "                if \"cv2\" in down_name:\n",
    "                    img_copy *= 255\n",
    "                    img_down = cv2.resize(img_copy, target_size, interpolation=down_interp)\n",
    "                else:\n",
    "                    img_copy = Image.fromarray(img_copy * 255)\n",
    "                    img_down = img_copy.resize(target_size, resample=down_interp)\n",
    "                    img_down = np.array(img_down)\n",
    "\n",
    "                if \"cv2\" in up_name:\n",
    "                    img_up = cv2.resize(img_down, original_size, interpolation=up_interp)\n",
    "                else:\n",
    "                    img_down = Image.fromarray(img_down)\n",
    "                    img_up = img_down.resize(original_size, resample=up_interp)\n",
    "                    img_up = np.array(img_up)\n",
    "\n",
    "                score = dice_coef(np.array(img), normalize_mask(np.array(img_up)))\n",
    "                results[(down_name, up_name)] += score\n",
    "    return results"
   ]
  },
  {
   "cell_type": "code",
   "execution_count": 116,
   "metadata": {
    "collapsed": true
   },
   "outputs": [],
   "source": [
    "def iter_files_with_ext(root_dir, ext):\n",
    "    \"\"\"\n",
    "    Iterate recursively on all files in root dir, ending with <ext>.\n",
    "    :param root_dir: Directory to list.\n",
    "    :param ext: Extension of the files.\n",
    "    :return: absolute path of all files.\n",
    "    \"\"\"\n",
    "    for path, sub_dirs, files in os.walk(root_dir):\n",
    "        for name in files:\n",
    "            if not name.startswith(\".\") and name.endswith(ext):\n",
    "                abs_path = os.path.abspath(os.path.join(path, name))\n",
    "                if os.path.isfile(abs_path):\n",
    "                    yield os.path.join(path, name)"
   ]
  },
  {
   "cell_type": "code",
   "execution_count": 117,
   "metadata": {
    "collapsed": true
   },
   "outputs": [],
   "source": [
    "gifs = iter_files_with_ext(\"../data/train_masks_sample/\", \".gif\")"
   ]
  },
  {
   "cell_type": "code",
   "execution_count": 118,
   "metadata": {
    "collapsed": true
   },
   "outputs": [],
   "source": [
    "imgs = []\n",
    "for fn in gifs:\n",
    "    imgs.append(np.array(Image.open(fn)))"
   ]
  },
  {
   "cell_type": "code",
   "execution_count": 119,
   "metadata": {},
   "outputs": [],
   "source": [
    "results = evaluate_interpolation(imgs, (1920//2, 1280//2))"
   ]
  },
  {
   "cell_type": "code",
   "execution_count": 120,
   "metadata": {},
   "outputs": [
    {
     "data": {
      "text/plain": [
       "[(('cv2_nn', 'cv2_nn'), 9.9707585974039841),\n",
       " (('cv2_nn', 'pil_nn'), 9.9773067484345397),\n",
       " (('cv2_nn', 'cv2_area'), 9.9773100316542784),\n",
       " (('cv2_nn', 'pil_area'), 9.9773320790207514),\n",
       " (('cv2_nn', 'pil_hamming'), 9.977807474608273),\n",
       " (('cv2_nn', 'pil_cubic'), 9.9780518524368418),\n",
       " (('cv2_nn', 'pil_lanczos'), 9.9781641177148366),\n",
       " (('cv2_nn', 'cv2_lanczos'), 9.978208036173088),\n",
       " (('cv2_nn', 'cv2_linear'), 9.9782879999554659),\n",
       " (('cv2_nn', 'cv2_cubic'), 9.9783109202617606),\n",
       " (('cv2_nn', 'pil_linear'), 9.978316242011152),\n",
       " (('pil_area', 'cv2_nn'), 9.9809971551820205),\n",
       " (('pil_nn', 'pil_area'), 9.9819997605731068),\n",
       " (('pil_nn', 'pil_nn'), 9.982020608708563),\n",
       " (('pil_nn', 'cv2_area'), 9.9820222607948015),\n",
       " (('pil_nn', 'cv2_nn'), 9.9820292461466718),\n",
       " (('cv2_lanczos', 'cv2_nn'), 9.9820317389774846),\n",
       " (('cv2_cubic', 'cv2_nn'), 9.9820461738402866),\n",
       " (('pil_nn', 'pil_hamming'), 9.9825838180393092),\n",
       " (('cv2_linear', 'cv2_nn'), 9.9827833729666384),\n",
       " (('pil_lanczos', 'cv2_nn'), 9.9831149342314109),\n",
       " (('pil_hamming', 'cv2_nn'), 9.9831167783577257),\n",
       " (('pil_linear', 'cv2_nn'), 9.9831334200372943),\n",
       " (('pil_cubic', 'cv2_nn'), 9.9831367074359445),\n",
       " (('cv2_area', 'cv2_nn'), 9.9831790536108809),\n",
       " (('pil_nn', 'pil_cubic'), 9.9839793046258745),\n",
       " (('pil_nn', 'pil_lanczos'), 9.984104513042757),\n",
       " (('pil_nn', 'cv2_lanczos'), 9.9843049559669925),\n",
       " (('pil_nn', 'cv2_cubic'), 9.9843907182535698),\n",
       " (('pil_lanczos', 'pil_area'), 9.9844830477276911),\n",
       " (('pil_linear', 'pil_area'), 9.9844884781578465),\n",
       " (('pil_cubic', 'pil_area'), 9.9844978422000192),\n",
       " (('pil_lanczos', 'pil_nn'), 9.9845037399449055),\n",
       " (('pil_linear', 'pil_nn'), 9.9845067107784118),\n",
       " (('pil_cubic', 'pil_nn'), 9.9845160728544222),\n",
       " (('pil_hamming', 'pil_area'), 9.9845746617066844),\n",
       " (('cv2_lanczos', 'pil_area'), 9.9845804382052776),\n",
       " (('pil_hamming', 'pil_nn'), 9.9845928934710333),\n",
       " (('cv2_cubic', 'pil_area'), 9.9846032162669491),\n",
       " (('cv2_lanczos', 'pil_nn'), 9.9846034250898015),\n",
       " (('cv2_area', 'pil_area'), 9.9846110935659453),\n",
       " (('cv2_linear', 'pil_area'), 9.9846148012965141),\n",
       " (('pil_area', 'pil_area'), 9.9846186870905438),\n",
       " (('cv2_cubic', 'pil_nn'), 9.9846238898849116),\n",
       " (('pil_area', 'pil_nn'), 9.9846309895394043),\n",
       " (('cv2_area', 'pil_nn'), 9.984631762962529),\n",
       " (('cv2_linear', 'pil_nn'), 9.9846354661817109),\n",
       " (('cv2_cubic', 'cv2_area'), 9.9846558850935736),\n",
       " (('cv2_linear', 'cv2_area'), 9.9846657818857061),\n",
       " (('pil_nn', 'cv2_linear'), 9.9846677794911241),\n",
       " (('pil_nn', 'pil_linear'), 9.9846792770562605),\n",
       " (('cv2_lanczos', 'cv2_area'), 9.9847311115348631),\n",
       " (('pil_area', 'cv2_area'), 9.9859313396218887),\n",
       " (('pil_hamming', 'cv2_area'), 9.9873766175562011),\n",
       " (('pil_lanczos', 'cv2_area'), 9.9874455516345488),\n",
       " (('pil_linear', 'cv2_area'), 9.9874509734784152),\n",
       " (('pil_cubic', 'cv2_area'), 9.9874688676226668),\n",
       " (('cv2_area', 'cv2_area'), 9.987625920883433),\n",
       " (('cv2_lanczos', 'pil_hamming'), 9.9917153008906627),\n",
       " (('cv2_cubic', 'pil_hamming'), 9.9920465775681002),\n",
       " (('pil_area', 'pil_hamming'), 9.9922978620843175),\n",
       " (('cv2_linear', 'pil_hamming'), 9.9930723142519735),\n",
       " (('cv2_area', 'pil_hamming'), 9.9945368262511174),\n",
       " (('pil_lanczos', 'pil_hamming'), 9.9947219544767929),\n",
       " (('pil_cubic', 'pil_hamming'), 9.9947954577735416),\n",
       " (('pil_hamming', 'pil_hamming'), 9.9948088700049862),\n",
       " (('pil_linear', 'pil_hamming'), 9.9949763857243621),\n",
       " (('cv2_lanczos', 'pil_cubic'), 9.9949897745613043),\n",
       " (('cv2_lanczos', 'pil_lanczos'), 9.9951917095024765),\n",
       " (('pil_area', 'pil_cubic'), 9.9952399332808479),\n",
       " (('cv2_cubic', 'pil_cubic'), 9.9954393236848986),\n",
       " (('cv2_lanczos', 'cv2_cubic'), 9.9954549136402839),\n",
       " (('pil_area', 'cv2_linear'), 9.9954723006690092),\n",
       " (('pil_area', 'pil_lanczos'), 9.9954821245088521),\n",
       " (('pil_area', 'pil_linear'), 9.9955121028550273),\n",
       " (('cv2_lanczos', 'cv2_lanczos'), 9.9955229565681734),\n",
       " (('cv2_lanczos', 'cv2_linear'), 9.9956300991662044),\n",
       " (('cv2_lanczos', 'pil_linear'), 9.9956470656531575),\n",
       " (('pil_area', 'cv2_lanczos'), 9.9957456968031586),\n",
       " (('pil_area', 'cv2_cubic'), 9.9959884438734932),\n",
       " (('cv2_cubic', 'cv2_linear'), 9.9960543241610669),\n",
       " (('cv2_cubic', 'pil_lanczos'), 9.9960668436305511),\n",
       " (('cv2_cubic', 'pil_linear'), 9.9961222923510356),\n",
       " (('cv2_cubic', 'cv2_lanczos'), 9.9962097418103184),\n",
       " (('cv2_cubic', 'cv2_cubic'), 9.9962176739747122),\n",
       " (('cv2_linear', 'pil_cubic'), 9.9963062639232927),\n",
       " (('cv2_linear', 'pil_lanczos'), 9.9966319158542074),\n",
       " (('cv2_linear', 'cv2_lanczos'), 9.9967793391405344),\n",
       " (('cv2_linear', 'cv2_cubic'), 9.9968324561211901),\n",
       " (('cv2_linear', 'cv2_linear'), 9.9970031418662426),\n",
       " (('cv2_linear', 'pil_linear'), 9.9971259897597999),\n",
       " (('pil_hamming', 'pil_cubic'), 9.9985827685269566),\n",
       " (('cv2_area', 'cv2_linear'), 9.9986955873895571),\n",
       " (('cv2_area', 'pil_cubic'), 9.9987017085028107),\n",
       " (('cv2_area', 'pil_linear'), 9.9987122793882541),\n",
       " (('pil_hamming', 'cv2_linear'), 9.9988155511943795),\n",
       " (('pil_hamming', 'pil_linear'), 9.9988185069828699),\n",
       " (('pil_lanczos', 'pil_cubic'), 9.9990870325929553),\n",
       " (('pil_cubic', 'pil_cubic'), 9.9991092659770242),\n",
       " (('pil_hamming', 'pil_lanczos'), 9.9991336751909579),\n",
       " (('cv2_area', 'pil_lanczos'), 9.9992144606779547),\n",
       " (('pil_lanczos', 'pil_linear'), 9.9992382336015151),\n",
       " (('pil_lanczos', 'cv2_linear'), 9.9992466239368305),\n",
       " (('pil_cubic', 'pil_linear'), 9.9992590511452537),\n",
       " (('pil_cubic', 'cv2_linear'), 9.9992657049406741),\n",
       " (('pil_hamming', 'cv2_lanczos'), 9.9994315257673581),\n",
       " (('pil_hamming', 'cv2_cubic'), 9.9994656580240822),\n",
       " (('cv2_area', 'cv2_lanczos'), 9.9995063418167049),\n",
       " (('cv2_area', 'cv2_cubic'), 9.9995286363262679),\n",
       " (('pil_lanczos', 'pil_lanczos'), 9.9996304161446865),\n",
       " (('pil_cubic', 'pil_lanczos'), 9.9996329958343466),\n",
       " (('pil_linear', 'pil_cubic'), 9.9996465748295886),\n",
       " (('pil_linear', 'cv2_linear'), 9.9997142894424638),\n",
       " (('pil_linear', 'pil_linear'), 9.9997151509717757),\n",
       " (('pil_cubic', 'cv2_lanczos'), 9.9997544580898978),\n",
       " (('pil_lanczos', 'cv2_lanczos'), 9.9997857582464835),\n",
       " (('pil_lanczos', 'cv2_cubic'), 9.9998452827409992),\n",
       " (('pil_cubic', 'cv2_cubic'), 9.9998456249082679),\n",
       " (('pil_linear', 'cv2_cubic'), 9.9998460249692993),\n",
       " (('pil_linear', 'pil_lanczos'), 9.9998498570463461),\n",
       " (('pil_linear', 'cv2_lanczos'), 9.9998654134575329)]"
      ]
     },
     "execution_count": 120,
     "metadata": {},
     "output_type": "execute_result"
    }
   ],
   "source": [
    "sorted(results.items(), key=lambda x: x[1])"
   ]
  },
  {
   "cell_type": "code",
   "execution_count": null,
   "metadata": {
    "collapsed": true
   },
   "outputs": [],
   "source": []
  },
  {
   "cell_type": "code",
   "execution_count": null,
   "metadata": {
    "collapsed": true
   },
   "outputs": [],
   "source": []
  },
  {
   "cell_type": "code",
   "execution_count": null,
   "metadata": {
    "collapsed": true
   },
   "outputs": [],
   "source": []
  },
  {
   "cell_type": "code",
   "execution_count": 8,
   "metadata": {},
   "outputs": [
    {
     "name": "stdout",
     "output_type": "stream",
     "text": [
      "The slowest run took 14.97 times longer than the fastest. This could mean that an intermediate result is being cached.\n",
      "100 loops, best of 3: 3.02 ms per loop\n"
     ]
    }
   ],
   "source": [
    "%timeit Image.fromarray(np.array(m) * 255)"
   ]
  },
  {
   "cell_type": "code",
   "execution_count": 9,
   "metadata": {
    "collapsed": true
   },
   "outputs": [],
   "source": [
    "import cv2"
   ]
  },
  {
   "cell_type": "code",
   "execution_count": 38,
   "metadata": {},
   "outputs": [],
   "source": [
    "m = np.array(m) * 255"
   ]
  },
  {
   "cell_type": "code",
   "execution_count": 20,
   "metadata": {},
   "outputs": [
    {
     "name": "stdout",
     "output_type": "stream",
     "text": [
      "100 loops, best of 3: 4.25 ms per loop\n"
     ]
    }
   ],
   "source": [
    "%timeit cv2.resize(m, (1920//2, 1280//2), interpolation=cv2.INTER_AREA)"
   ]
  },
  {
   "cell_type": "code",
   "execution_count": 21,
   "metadata": {},
   "outputs": [
    {
     "name": "stdout",
     "output_type": "stream",
     "text": [
      "The slowest run took 8.30 times longer than the fastest. This could mean that an intermediate result is being cached.\n",
      "1000 loops, best of 3: 694 µs per loop\n"
     ]
    }
   ],
   "source": [
    "%timeit cv2.resize(m, (1920//2, 1280//2), interpolation=cv2.INTER_LINEAR)"
   ]
  },
  {
   "cell_type": "code",
   "execution_count": 22,
   "metadata": {},
   "outputs": [
    {
     "name": "stdout",
     "output_type": "stream",
     "text": [
      "100 loops, best of 3: 2.84 ms per loop\n"
     ]
    }
   ],
   "source": [
    "%timeit cv2.resize(m, (1920//2, 1280//2), interpolation=cv2.INTER_LANCZOS4)"
   ]
  },
  {
   "cell_type": "code",
   "execution_count": 23,
   "metadata": {},
   "outputs": [
    {
     "name": "stdout",
     "output_type": "stream",
     "text": [
      "1000 loops, best of 3: 1.11 ms per loop\n"
     ]
    }
   ],
   "source": [
    "%timeit cv2.resize(m, (1920//2, 1280//2), interpolation=cv2.INTER_CUBIC)"
   ]
  },
  {
   "cell_type": "code",
   "execution_count": 25,
   "metadata": {},
   "outputs": [
    {
     "data": {
      "text/plain": [
       "True"
      ]
     },
     "execution_count": 25,
     "metadata": {},
     "output_type": "execute_result"
    }
   ],
   "source": [
    "cv2.imwrite(\"../data/im_cubic.png\", cv2.resize(m, (1920//2, 1280//2), interpolation=cv2.INTER_CUBIC))"
   ]
  },
  {
   "cell_type": "code",
   "execution_count": 26,
   "metadata": {},
   "outputs": [
    {
     "data": {
      "text/plain": [
       "True"
      ]
     },
     "execution_count": 26,
     "metadata": {},
     "output_type": "execute_result"
    }
   ],
   "source": [
    "cv2.imwrite(\"../data/im_nn.png\", cv2.resize(m, (1920//2, 1280//2), interpolation=cv2.INTER_NEAREST))"
   ]
  },
  {
   "cell_type": "code",
   "execution_count": 27,
   "metadata": {},
   "outputs": [
    {
     "data": {
      "text/plain": [
       "True"
      ]
     },
     "execution_count": 27,
     "metadata": {},
     "output_type": "execute_result"
    }
   ],
   "source": [
    "cv2.imwrite(\"../data/im_linear.png\", cv2.resize(m, (1920//2, 1280//2), interpolation=cv2.INTER_LINEAR))"
   ]
  },
  {
   "cell_type": "code",
   "execution_count": null,
   "metadata": {
    "collapsed": true
   },
   "outputs": [],
   "source": []
  },
  {
   "cell_type": "code",
   "execution_count": 24,
   "metadata": {},
   "outputs": [
    {
     "data": {
      "image/png": "[encoded data removed]",
      "text/plain": [
       "<PIL.Image.Image image mode=L size=960x640 at 0x7F8FB8B3C048>"
      ]
     },
     "execution_count": 24,
     "metadata": {},
     "output_type": "execute_result"
    }
   ],
   "source": [
    "Image.fromarray(cv2.resize(m, (1920//2, 1280//2), interpolation=cv2.INTER_CUBIC))"
   ]
  },
  {
   "cell_type": "code",
   "execution_count": 2,
   "metadata": {},
   "outputs": [
    {
     "name": "stderr",
     "output_type": "stream",
     "text": [
      "INFO:root:Test info\n"
     ]
    }
   ],
   "source": [
    "logging.debug(\"Test debug\")\n",
    "logging.info(\"Test info\")"
   ]
  },
  {
   "cell_type": "code",
   "execution_count": 3,
   "metadata": {
    "collapsed": true
   },
   "outputs": [],
   "source": [
    "def resize_worker(src_filename, dst_dir, target_size, is_boolean=False):\n",
    "    try:\n",
    "        img = Image.open(src_filename)\n",
    "        resample_method = Image.NEAREST if is_boolean else Image.BICUBIC\n",
    "        img_resized = img.resize(target_size, resample=resample_method)\n",
    "        \n",
    "        src_basename = os.path.basename(src_filename)\n",
    "        dst_basename, _ = os.path.splitext(src_basename)\n",
    "        dst_filename = os.path.join(dst_dir, dst_basename + \".png\")\n",
    "        img_resized.save(dst_filename)\n",
    "    except Exception as e:\n",
    "        logging.error(\"Can't process image {}: {}\".format(src_filename, e))"
   ]
  },
  {
   "cell_type": "code",
   "execution_count": 4,
   "metadata": {
    "collapsed": true
   },
   "outputs": [],
   "source": [
    "def iter_files_with_ext(root_dir, ext):\n",
    "    \"\"\"\n",
    "    Iterate recursively on all files in root dir, ending with <ext>.\n",
    "    :param root_dir: Directory to list.\n",
    "    :param ext: Extension of the files.\n",
    "    :return: absolute path of all files.\n",
    "    \"\"\"\n",
    "    for path, sub_dirs, files in os.walk(root_dir):\n",
    "        for name in files:\n",
    "            if not name.startswith(\".\") and name.endswith(ext):\n",
    "                abs_path = os.path.abspath(os.path.join(path, name))\n",
    "                if os.path.isfile(abs_path):\n",
    "                    yield os.path.join(path, name)"
   ]
  },
  {
   "cell_type": "code",
   "execution_count": 5,
   "metadata": {
    "collapsed": true
   },
   "outputs": [],
   "source": [
    "def resize_all(src_dir, src_ext, dst_dir, target_size, is_boolean=False):\n",
    "    os.makedirs(dst_dir, exist_ok=True)\n",
    "    iter_images = iter_files_with_ext(src_dir, ext=src_ext)\n",
    "    \n",
    "    resize_worker_spec = partial(resize_worker, dst_dir=dst_dir, target_size=target_size, is_boolean=is_boolean)\n",
    "    with multiprocessing.Pool() as pool, progressbar.ProgressBar(max_value=progressbar.UnknownLength) as pbar:\n",
    "        for i, _ in enumerate(pool.imap_unordered(resize_worker_spec, iter_images)):\n",
    "            pbar.update(i+1)"
   ]
  },
  {
   "cell_type": "code",
   "execution_count": 57,
   "metadata": {},
   "outputs": [
    {
     "name": "stderr",
     "output_type": "stream",
     "text": [
      "| 5088 Elapsed Time: 0:01:34                                                   \n"
     ]
    }
   ],
   "source": [
    "resize_all(\"../data/train/\", \".jpg\", \"../data/train_240x160/\", (240, 160), is_boolean=False)"
   ]
  },
  {
   "cell_type": "code",
   "execution_count": 59,
   "metadata": {},
   "outputs": [
    {
     "name": "stderr",
     "output_type": "stream",
     "text": [
      "| 100064 Elapsed Time: 0:45:38                                                 \n"
     ]
    }
   ],
   "source": [
    "resize_all(\"../data/test/\", \".jpg\", \"../data/test_240x160/\", (240, 160), is_boolean=False)"
   ]
  },
  {
   "cell_type": "code",
   "execution_count": 58,
   "metadata": {},
   "outputs": [
    {
     "name": "stderr",
     "output_type": "stream",
     "text": [
      "| 5088 Elapsed Time: 0:00:31                                                   \n"
     ]
    }
   ],
   "source": [
    "resize_all(\"../data/train_masks/\", \".gif\", \"../data/train_masks_240x160/\", (240, 160), is_boolean=True)"
   ]
  },
  {
   "cell_type": "code",
   "execution_count": 6,
   "metadata": {},
   "outputs": [
    {
     "name": "stderr",
     "output_type": "stream",
     "text": [
      "| 5088 Elapsed Time: 0:02:17                                                   \n"
     ]
    }
   ],
   "source": [
    "resize_all(\"../data/train/\", \".jpg\", \"../data/train_480x320/\", (480, 320), is_boolean=False)"
   ]
  },
  {
   "cell_type": "code",
   "execution_count": 7,
   "metadata": {},
   "outputs": [
    {
     "name": "stderr",
     "output_type": "stream",
     "text": [
      "| 5088 Elapsed Time: 0:00:40                                                   \n"
     ]
    }
   ],
   "source": [
    "resize_all(\"../data/train_masks/\", \".gif\", \"../data/train_masks_480x320/\", (480, 320), is_boolean=True)"
   ]
  },
  {
   "cell_type": "code",
   "execution_count": 8,
   "metadata": {},
   "outputs": [
    {
     "name": "stderr",
     "output_type": "stream",
     "text": [
      "| 100064 Elapsed Time: 0:56:34                                                 \n"
     ]
    }
   ],
   "source": [
    "resize_all(\"../data/test/\", \".jpg\", \"../data/test_480x320/\", (480, 320), is_boolean=False)"
   ]
  },
  {
   "cell_type": "code",
   "execution_count": 50,
   "metadata": {
    "collapsed": true
   },
   "outputs": [],
   "source": [
    "im = Image.open(\"../data/train_240x160/0d3adbbc9a8b_02.png\")"
   ]
  },
  {
   "cell_type": "code",
   "execution_count": 51,
   "metadata": {},
   "outputs": [
    {
     "data": {
      "image/png": "[encoded data removed]",
      "text/plain": [
       "<PIL.PngImagePlugin.PngImageFile image mode=RGB size=240x160 at 0x7FED84213358>"
      ]
     },
     "execution_count": 51,
     "metadata": {},
     "output_type": "execute_result"
    }
   ],
   "source": [
    "im"
   ]
  },
  {
   "cell_type": "code",
   "execution_count": 10,
   "metadata": {
    "collapsed": true
   },
   "outputs": [],
   "source": [
    "mask = Image.open(\"../data/train_masks_480x320/16f0ec26d608_07_mask.png\")"
   ]
  },
  {
   "cell_type": "code",
   "execution_count": 11,
   "metadata": {},
   "outputs": [
    {
     "data": {
      "image/png": "[encoded data removed]",
      "text/plain": [
       "<PIL.PngImagePlugin.PngImageFile image mode=P size=480x320 at 0x7F26F403C470>"
      ]
     },
     "execution_count": 11,
     "metadata": {},
     "output_type": "execute_result"
    }
   ],
   "source": [
    "mask"
   ]
  },
  {
   "cell_type": "code",
   "execution_count": 54,
   "metadata": {
    "collapsed": true
   },
   "outputs": [],
   "source": [
    "import numpy as np"
   ]
  },
  {
   "cell_type": "code",
   "execution_count": 55,
   "metadata": {},
   "outputs": [
    {
     "data": {
      "text/plain": [
       "array([[0, 0, 0, ..., 0, 0, 0],\n",
       "       [0, 0, 0, ..., 0, 0, 0],\n",
       "       [0, 0, 0, ..., 0, 0, 0],\n",
       "       ..., \n",
       "       [0, 0, 0, ..., 0, 0, 0],\n",
       "       [0, 0, 0, ..., 0, 0, 0],\n",
       "       [0, 0, 0, ..., 0, 0, 0]], dtype=uint8)"
      ]
     },
     "execution_count": 55,
     "metadata": {},
     "output_type": "execute_result"
    }
   ],
   "source": [
    "np.array(mask)"
   ]
  },
  {
   "cell_type": "code",
   "execution_count": 56,
   "metadata": {},
   "outputs": [
    {
     "data": {
      "text/plain": [
       "1"
      ]
     },
     "execution_count": 56,
     "metadata": {},
     "output_type": "execute_result"
    }
   ],
   "source": [
    "np.max(mask)"
   ]
  },
  {
   "cell_type": "code",
   "execution_count": null,
   "metadata": {
    "collapsed": true
   },
   "outputs": [],
   "source": []
  }
 ],
 "metadata": {
  "kernelspec": {
   "display_name": "Python 3",
   "language": "python",
   "name": "python3"
  },
  "language_info": {
   "codemirror_mode": {
    "name": "ipython",
    "version": 3
   },
   "file_extension": ".py",
   "mimetype": "text/x-python",
   "name": "python",
   "nbconvert_exporter": "python",
   "pygments_lexer": "ipython3",
   "version": "3.5.2"
  }
 },
 "nbformat": 4,
 "nbformat_minor": 2
}
