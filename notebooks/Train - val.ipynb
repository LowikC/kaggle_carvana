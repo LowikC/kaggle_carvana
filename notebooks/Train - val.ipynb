{
 "cells": [
  {
   "cell_type": "code",
   "execution_count": 1,
   "metadata": {
    "collapsed": true
   },
   "outputs": [],
   "source": [
    "import os"
   ]
  },
  {
   "cell_type": "code",
   "execution_count": 2,
   "metadata": {
    "collapsed": true
   },
   "outputs": [],
   "source": [
    "def iter_files_with_ext(root_dir, ext):\n",
    "    \"\"\"\n",
    "    Iterate recursively on all files in root dir, ending with <ext>.\n",
    "    :param root_dir: Directory to list.\n",
    "    :param ext: Extension of the files.\n",
    "    :return: absolute path of all files.\n",
    "    \"\"\"\n",
    "    for path, sub_dirs, files in os.walk(root_dir):\n",
    "        for name in files:\n",
    "            if not name.startswith(\".\") and name.endswith(ext):\n",
    "                abs_path = os.path.abspath(os.path.join(path, name))\n",
    "                if os.path.isfile(abs_path):\n",
    "                    yield os.path.join(path, name)"
   ]
  },
  {
   "cell_type": "code",
   "execution_count": 3,
   "metadata": {
    "collapsed": true
   },
   "outputs": [],
   "source": [
    "train_files = list(iter_files_with_ext(\"../data/train/\", \".jpg\"))"
   ]
  },
  {
   "cell_type": "code",
   "execution_count": 5,
   "metadata": {
    "collapsed": true
   },
   "outputs": [],
   "source": [
    "def get_uid_rot(filename):\n",
    "    basename = os.path.basename(filename)\n",
    "    basename, _ = os.path.splitext(basename)\n",
    "    uid, rot = basename.split(\"_\")\n",
    "    return uid, int(rot)"
   ]
  },
  {
   "cell_type": "code",
   "execution_count": 6,
   "metadata": {},
   "outputs": [
    {
     "data": {
      "text/plain": [
       "('3c6acfceb552', 9)"
      ]
     },
     "execution_count": 6,
     "metadata": {},
     "output_type": "execute_result"
    }
   ],
   "source": [
    "get_uid_rot(train_files[0])"
   ]
  },
  {
   "cell_type": "code",
   "execution_count": 12,
   "metadata": {
    "collapsed": true
   },
   "outputs": [],
   "source": [
    "uids = list(set([get_uid_rot(fn)[0] for fn in train_files]))"
   ]
  },
  {
   "cell_type": "code",
   "execution_count": 13,
   "metadata": {
    "collapsed": true
   },
   "outputs": [],
   "source": [
    "import numpy as np"
   ]
  },
  {
   "cell_type": "code",
   "execution_count": 14,
   "metadata": {
    "collapsed": true
   },
   "outputs": [],
   "source": [
    "permuted_idx = np.random.permutation(len(uids))"
   ]
  },
  {
   "cell_type": "code",
   "execution_count": 15,
   "metadata": {
    "collapsed": true
   },
   "outputs": [],
   "source": [
    "train_p = 0.8\n",
    "n_train = int(train_p * len(uids))"
   ]
  },
  {
   "cell_type": "code",
   "execution_count": 16,
   "metadata": {
    "collapsed": true
   },
   "outputs": [],
   "source": [
    "train_idx = permuted_idx[:n_train]\n",
    "val_idx = permuted_idx[n_train:]"
   ]
  },
  {
   "cell_type": "code",
   "execution_count": 17,
   "metadata": {
    "collapsed": true
   },
   "outputs": [],
   "source": [
    "train_uids = set([uids[idx] for idx in train_idx])\n",
    "val_uids = set([uids[idx] for idx in val_idx])"
   ]
  },
  {
   "cell_type": "code",
   "execution_count": 18,
   "metadata": {},
   "outputs": [
    {
     "data": {
      "text/plain": [
       "set()"
      ]
     },
     "execution_count": 18,
     "metadata": {},
     "output_type": "execute_result"
    }
   ],
   "source": [
    "val_uids.intersection(train_uids)"
   ]
  },
  {
   "cell_type": "code",
   "execution_count": 19,
   "metadata": {
    "collapsed": true
   },
   "outputs": [],
   "source": [
    "train_filenames = [fn for fn in train_files if get_uid_rot(fn)[0] in train_uids]\n",
    "val_filenames = [fn for fn in train_files if get_uid_rot(fn)[0] in val_uids]"
   ]
  },
  {
   "cell_type": "code",
   "execution_count": 20,
   "metadata": {},
   "outputs": [
    {
     "data": {
      "text/plain": [
       "4064"
      ]
     },
     "execution_count": 20,
     "metadata": {},
     "output_type": "execute_result"
    }
   ],
   "source": [
    "len(train_filenames)"
   ]
  },
  {
   "cell_type": "code",
   "execution_count": 21,
   "metadata": {},
   "outputs": [
    {
     "data": {
      "text/plain": [
       "1024"
      ]
     },
     "execution_count": 21,
     "metadata": {},
     "output_type": "execute_result"
    }
   ],
   "source": [
    "len(val_filenames)"
   ]
  },
  {
   "cell_type": "code",
   "execution_count": 22,
   "metadata": {
    "collapsed": true
   },
   "outputs": [],
   "source": [
    "import json"
   ]
  },
  {
   "cell_type": "code",
   "execution_count": 30,
   "metadata": {
    "collapsed": true
   },
   "outputs": [],
   "source": [
    "def get_basename(fn):\n",
    "    basename = os.path.basename(fn)\n",
    "    basename, _ = os.path.splitext(basename)\n",
    "    return basename"
   ]
  },
  {
   "cell_type": "code",
   "execution_count": 31,
   "metadata": {},
   "outputs": [
    {
     "data": {
      "text/plain": [
       "'3c6acfceb552_09'"
      ]
     },
     "execution_count": 31,
     "metadata": {},
     "output_type": "execute_result"
    }
   ],
   "source": [
    "get_basename(train_filenames[0])"
   ]
  },
  {
   "cell_type": "code",
   "execution_count": 32,
   "metadata": {},
   "outputs": [],
   "source": [
    "with open(\"../data/train.json\", \"w\") as jfile:\n",
    "    json.dump([get_basename(fn) for fn in train_filenames], jfile, indent=2)"
   ]
  },
  {
   "cell_type": "code",
   "execution_count": 33,
   "metadata": {},
   "outputs": [],
   "source": [
    "with open(\"../data/val.json\", \"w\") as jfile:\n",
    "    json.dump([get_basename(fn) for fn in val_filenames], jfile, indent=2)"
   ]
  },
  {
   "cell_type": "code",
   "execution_count": 34,
   "metadata": {},
   "outputs": [
    {
     "name": "stdout",
     "output_type": "stream",
     "text": [
      "[\r\n",
      "  \"3c6acfceb552_09\",\r\n",
      "  \"eb91b1c659a0_06\",\r\n",
      "  \"5df60cf7cab2_01\",\r\n",
      "  \"cafee4122080_15\",\r\n",
      "  \"00087a6bd4dc_13\",\r\n",
      "  \"898339fab87a_04\",\r\n",
      "  \"dd70a0a51e3b_02\",\r\n",
      "  \"a56f923399ca_02\",\r\n",
      "  \"d1a3af34e674_12\",\r\n"
     ]
    }
   ],
   "source": [
    "!head -10 ../data/train.json"
   ]
  },
  {
   "cell_type": "code",
   "execution_count": 35,
   "metadata": {},
   "outputs": [
    {
     "name": "stdout",
     "output_type": "stream",
     "text": [
      "[\r\n",
      "  \"9dfaeb835626_02\",\r\n",
      "  \"a7b9e343cf6b_13\",\r\n",
      "  \"70b6a79565fe_02\",\r\n",
      "  \"cf65b1c5e147_06\",\r\n",
      "  \"6d375bc2ece1_03\",\r\n",
      "  \"ed8472086df8_14\",\r\n",
      "  \"0cdf5b5d0ce1_01\",\r\n",
      "  \"1e89e1af42e7_07\",\r\n",
      "  \"3c54e71fd2c9_04\",\r\n"
     ]
    }
   ],
   "source": [
    "!head -10 ../data/val.json"
   ]
  },
  {
   "cell_type": "code",
   "execution_count": null,
   "metadata": {
    "collapsed": true
   },
   "outputs": [],
   "source": []
  }
 ],
 "metadata": {
  "kernelspec": {
   "display_name": "Python 3",
   "language": "python",
   "name": "python3"
  },
  "language_info": {
   "codemirror_mode": {
    "name": "ipython",
    "version": 3
   },
   "file_extension": ".py",
   "mimetype": "text/x-python",
   "name": "python",
   "nbconvert_exporter": "python",
   "pygments_lexer": "ipython3",
   "version": "3.5.2"
  }
 },
 "nbformat": 4,
 "nbformat_minor": 2
}
