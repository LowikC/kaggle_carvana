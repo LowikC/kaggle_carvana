{
 "cells": [
  {
   "cell_type": "code",
   "execution_count": 2,
   "metadata": {
    "collapsed": true
   },
   "outputs": [],
   "source": [
    "import numpy as np\n",
    "from PIL import Image"
   ]
  },
  {
   "cell_type": "code",
   "execution_count": 3,
   "metadata": {
    "collapsed": true
   },
   "outputs": [],
   "source": [
    "def rle(mask):\n",
    "    flat_img = (mask > 0.5).ravel()\n",
    "    \n",
    "    starts = np.zeros(flat_img.shape[0], dtype=np.bool)\n",
    "    ends = np.zeros(flat_img.shape[0], dtype=np.bool)\n",
    "    starts[1:] = (~flat_img[:-1]) & flat_img[1:]\n",
    "    ends[:-1] = flat_img[:-1] & (~flat_img[1:])\n",
    "\n",
    "    starts[0] = flat_img[0]\n",
    "    ends[-1] = flat_img[-1]\n",
    "    \n",
    "    starts_ix = np.where(starts)[0] + 1  # because rle indexed from 1\n",
    "    ends_ix = np.where(ends)[0] + 1\n",
    "    lengths = ends_ix - starts_ix + 1\n",
    "    return starts_ix, lengths"
   ]
  },
  {
   "cell_type": "code",
   "execution_count": 4,
   "metadata": {
    "collapsed": true
   },
   "outputs": [],
   "source": [
    "def rle_dumps(img):\n",
    "    starts_ix, lengths = rle(img)\n",
    "    return \" \".join((str(s) + \" \" + str(l) for s, l in zip(starts_ix, lengths)))"
   ]
  },
  {
   "cell_type": "code",
   "execution_count": 5,
   "metadata": {
    "collapsed": true
   },
   "outputs": [],
   "source": [
    "def rle_loads(rle, shape=(1280, 1918)):\n",
    "    mask = np.zeros(shape[0] * shape[1], dtype=np.uint8)\n",
    "    tokens = rle.split()\n",
    "    assert(len(tokens) % 2 == 0)\n",
    "    for i in range(0, len(tokens), 2):\n",
    "        start = int(tokens[i]) - 1  # rle is indexed from 1\n",
    "        length = int(tokens[i+1])\n",
    "        mask[start:start+length] = True\n",
    "    return mask.reshape(shape)"
   ]
  },
  {
   "cell_type": "code",
   "execution_count": 84,
   "metadata": {
    "collapsed": true
   },
   "outputs": [],
   "source": [
    "def rle_encode(mask):\n",
    "    pixels = mask.ravel()\n",
    "    maskp = np.hstack((np.array([False]), pixels))\n",
    "    maskm = np.hstack((pixels, np.array([False])))\n",
    "    runs = np.where(maskp != maskm)[0]\n",
    "    return runs[::2] + 1, runs[1::2] - runs[::2]"
   ]
  },
  {
   "cell_type": "code",
   "execution_count": 85,
   "metadata": {
    "collapsed": true
   },
   "outputs": [],
   "source": [
    "def rle_dumpsb(mask):\n",
    "    starts, lengths = rle_encode(mask)\n",
    "    return \" \".join((str(s) + \" \" + str(l) for s, l in zip(starts, lengths)))"
   ]
  },
  {
   "cell_type": "code",
   "execution_count": 86,
   "metadata": {
    "collapsed": true
   },
   "outputs": [],
   "source": [
    "mask = np.array(Image.open('../data/train_masks/00087a6bd4dc_01_mask.gif'), dtype=np.uint8)"
   ]
  },
  {
   "cell_type": "code",
   "execution_count": 87,
   "metadata": {},
   "outputs": [
    {
     "name": "stdout",
     "output_type": "stream",
     "text": [
      "100 loops, best of 3: 3.53 ms per loop\n"
     ]
    }
   ],
   "source": [
    "%timeit rle_dumpsb(mask)"
   ]
  },
  {
   "cell_type": "code",
   "execution_count": 88,
   "metadata": {},
   "outputs": [
    {
     "name": "stdout",
     "output_type": "stream",
     "text": [
      "100 loops, best of 3: 9.17 ms per loop\n"
     ]
    }
   ],
   "source": [
    "%timeit rle_dumps(mask)"
   ]
  },
  {
   "cell_type": "code",
   "execution_count": 90,
   "metadata": {},
   "outputs": [
    {
     "data": {
      "text/plain": [
       "True"
      ]
     },
     "execution_count": 90,
     "metadata": {},
     "output_type": "execute_result"
    }
   ],
   "source": [
    "rle_dumpsb(mask) == rle_dumps(mask)"
   ]
  },
  {
   "cell_type": "code",
   "execution_count": null,
   "metadata": {
    "collapsed": true
   },
   "outputs": [],
   "source": []
  },
  {
   "cell_type": "code",
   "execution_count": null,
   "metadata": {
    "collapsed": true
   },
   "outputs": [],
   "source": []
  }
 ],
 "metadata": {
  "kernelspec": {
   "display_name": "Python 3",
   "language": "python",
   "name": "python3"
  },
  "language_info": {
   "codemirror_mode": {
    "name": "ipython",
    "version": 3
   },
   "file_extension": ".py",
   "mimetype": "text/x-python",
   "name": "python",
   "nbconvert_exporter": "python",
   "pygments_lexer": "ipython3",
   "version": "3.5.2"
  }
 },
 "nbformat": 4,
 "nbformat_minor": 2
}
